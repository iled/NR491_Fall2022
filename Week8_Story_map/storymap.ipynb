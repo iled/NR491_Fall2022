{
 "cells": [
  {
   "cell_type": "code",
   "execution_count": null,
   "metadata": {},
   "outputs": [],
   "source": [
    "import geopy\n",
    "import pandas\n",
    "from geopy.geocoders import Nominatim"
   ]
  },
  {
   "cell_type": "code",
   "execution_count": null,
   "metadata": {},
   "outputs": [],
   "source": [
    "def main():\n",
    "    io = pandas.read_csv('census-historic-population-borough.csv', index_col=None, header=0, sep=\",\")\n",
    "\n",
    "    def get_latitude(x):\n",
    "        return x.latitude\n",
    "\n",
    "    def get_longitude(x):\n",
    "        return x.longitude\n",
    "\n",
    "    geolocator = Nominatim(user_agent=\"email@email.com\")\n",
    "\n",
    "    geolocate_column = io['Area_Name'].apply(geolocator.geocode)\n",
    "    io['latitude'] = geolocate_column.apply(get_latitude)\n",
    "    io['longitude'] = geolocate_column.apply(get_longitude)\n",
    "    io.to_csv('geocoding-output.csv')\n",
    "\n",
    "if __name__ == '__main__':\n",
    "  main()"
   ]
  },
  {
   "cell_type": "code",
   "execution_count": null,
   "metadata": {},
   "outputs": [],
   "source": []
  }
 ],
 "metadata": {
  "kernelspec": {
   "display_name": "Python 3.10.2 ('dswe')",
   "language": "python",
   "name": "python3"
  },
  "language_info": {
   "name": "python",
   "version": "3.10.2"
  },
  "orig_nbformat": 4,
  "vscode": {
   "interpreter": {
    "hash": "706dd80fecb94a516eb598739559eb7d29ee8d341a252f74e6dbcc3dc05a40d3"
   }
  }
 },
 "nbformat": 4,
 "nbformat_minor": 2
}
